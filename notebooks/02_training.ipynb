{
 "cells": [
  {
   "cell_type": "markdown",
   "id": "41c42887",
   "metadata": {},
   "source": [
    "# 02 – Model Training\n",
    "\n",
    "In this notebook, we train the MLPClassifier model using the PyTorch training loop defined in `train.py`.\n",
    "\n",
    "We will:\n",
    "- Load preprocessed data\n",
    "- Create datasets and dataloaders\n",
    "- Instantiate the model\n",
    "- Define loss function and optimizer\n",
    "- Train the model for 20 epochs\n",
    "- Save the best model based on validation accuracy\n"
   ]
  },
  {
   "cell_type": "code",
   "execution_count": 2,
   "id": "ed1ec727",
   "metadata": {},
   "outputs": [
    {
     "name": "stdout",
     "output_type": "stream",
     "text": [
      "✅ Device: cpu\n"
     ]
    }
   ],
   "source": [
    "import sys\n",
    "import os\n",
    "\n",
    "# Adiciona a pasta 'src/' ao path\n",
    "sys.path.append(os.path.abspath(\"../src\"))\n",
    "\n",
    "import torch\n",
    "from torch import nn, optim\n",
    "from torch.utils.data import DataLoader\n",
    "from model import MLPClassifier\n",
    "from train import train_model\n",
    "from data_loader import HumanActivityDataset\n",
    "\n",
    "import pickle\n",
    "import matplotlib.pyplot as plt\n",
    "\n",
    "device = torch.device(\"cuda\" if torch.cuda.is_available() else \"cpu\")\n",
    "print(\"✅ Device:\", device)\n"
   ]
  },
  {
   "cell_type": "markdown",
   "id": "ac1e5bc2",
   "metadata": {},
   "source": [
    "## Load processed data\n",
    "\n",
    "We load the preprocessed NumPy arrays saved at the end of the `01_exploration.ipynb` notebook.\n"
   ]
  },
  {
   "cell_type": "code",
   "execution_count": 3,
   "id": "d16557e7",
   "metadata": {},
   "outputs": [],
   "source": [
    "with open(\"../data/processed_data.pkl\", \"rb\") as f:\n",
    "    X_train_final, y_train_final, X_val, y_val, X_test_scaled, y_test_encoded = pickle.load(f)\n"
   ]
  },
  {
   "cell_type": "code",
   "execution_count": 4,
   "id": "fe76c614",
   "metadata": {},
   "outputs": [],
   "source": [
    "BATCH_SIZE = 64\n",
    "\n",
    "train_dataset = HumanActivityDataset(X_train_final, y_train_final)\n",
    "val_dataset = HumanActivityDataset(X_val, y_val)\n",
    "test_dataset = HumanActivityDataset(X_test_scaled, y_test_encoded)\n",
    "\n",
    "train_loader = DataLoader(train_dataset, batch_size=BATCH_SIZE, shuffle=True)\n",
    "val_loader = DataLoader(val_dataset, batch_size=BATCH_SIZE, shuffle=False)\n",
    "test_loader = DataLoader(test_dataset, batch_size=BATCH_SIZE, shuffle=False)\n"
   ]
  },
  {
   "cell_type": "markdown",
   "id": "c2558d22",
   "metadata": {},
   "source": [
    "## Define MLP architecture\n",
    "\n",
    "We will use:\n",
    "- 561 input features\n",
    "- Two hidden layers: 256 and 128 neurons\n",
    "- ReLU activation\n",
    "- Dropout (0.3)\n",
    "- Output layer with 6 classes\n"
   ]
  },
  {
   "cell_type": "code",
   "execution_count": 5,
   "id": "86236984",
   "metadata": {},
   "outputs": [
    {
     "name": "stdout",
     "output_type": "stream",
     "text": [
      "MLPClassifier(\n",
      "  (model): Sequential(\n",
      "    (0): Linear(in_features=561, out_features=256, bias=True)\n",
      "    (1): ReLU()\n",
      "    (2): Dropout(p=0.3, inplace=False)\n",
      "    (3): Linear(in_features=256, out_features=128, bias=True)\n",
      "    (4): ReLU()\n",
      "    (5): Dropout(p=0.3, inplace=False)\n",
      "    (6): Linear(in_features=128, out_features=6, bias=True)\n",
      "  )\n",
      ")\n"
     ]
    }
   ],
   "source": [
    "model = MLPClassifier(\n",
    "    input_dim=561,\n",
    "    hidden_dims=[256, 128],\n",
    "    output_dim=6,\n",
    "    dropout_rate=0.3\n",
    ").to(device)\n",
    "\n",
    "print(model)\n"
   ]
  },
  {
   "cell_type": "markdown",
   "id": "5a41c051",
   "metadata": {},
   "source": [
    "## Define loss function and optimizer\n",
    "\n",
    "We use:\n",
    "- CrossEntropyLoss (for multi-class classification)\n",
    "- Adam optimizer with learning rate = 0.001\n"
   ]
  },
  {
   "cell_type": "code",
   "execution_count": 6,
   "id": "56972f7c",
   "metadata": {},
   "outputs": [],
   "source": [
    "criterion = nn.CrossEntropyLoss()\n",
    "optimizer = optim.Adam(model.parameters(), lr=0.001)\n"
   ]
  },
  {
   "cell_type": "code",
   "execution_count": 7,
   "id": "e8e28446",
   "metadata": {},
   "outputs": [
    {
     "name": "stdout",
     "output_type": "stream",
     "text": [
      "Type of criterion: <class 'torch.nn.modules.loss.CrossEntropyLoss'>\n",
      "Type of optimizer: <class 'torch.optim.adam.Adam'>\n"
     ]
    }
   ],
   "source": [
    "print(\"Type of criterion:\", type(criterion))\n",
    "print(\"Type of optimizer:\", type(optimizer))\n"
   ]
  },
  {
   "cell_type": "code",
   "execution_count": null,
   "id": "1be0fb79",
   "metadata": {},
   "outputs": [],
   "source": []
  },
  {
   "cell_type": "markdown",
   "id": "2b0ac6ee",
   "metadata": {},
   "source": [
    "## Train the model\n",
    "\n",
    "We will train for 20 epochs and save the best model based on validation accuracy.\n"
   ]
  },
  {
   "cell_type": "code",
   "execution_count": 9,
   "id": "bfa5ea1d",
   "metadata": {},
   "outputs": [],
   "source": [
    "import os\n",
    "\n",
    "# Cria a pasta ../outputs se não existir\n",
    "os.makedirs(\"../outputs\", exist_ok=True)\n"
   ]
  },
  {
   "cell_type": "code",
   "execution_count": null,
   "id": "c0a94250",
   "metadata": {},
   "outputs": [
    {
     "name": "stdout",
     "output_type": "stream",
     "text": [
      "\n",
      "Epoch 1/20\n"
     ]
    },
    {
     "name": "stderr",
     "output_type": "stream",
     "text": [
      "                                                          \r"
     ]
    },
    {
     "name": "stdout",
     "output_type": "stream",
     "text": [
      "Train Loss: 0.1523 | Train Acc: 0.9454\n",
      "Val   Loss: 0.0983 | Val   Acc: 0.9613\n",
      "✅ Saved new best model to ../outputs/best_model.pth\n",
      "\n",
      "Epoch 2/20\n"
     ]
    },
    {
     "name": "stderr",
     "output_type": "stream",
     "text": [
      "                                                          \r"
     ]
    },
    {
     "name": "stdout",
     "output_type": "stream",
     "text": [
      "Train Loss: 0.0908 | Train Acc: 0.9663\n",
      "Val   Loss: 0.0762 | Val   Acc: 0.9714\n",
      "✅ Saved new best model to ../outputs/best_model.pth\n",
      "\n",
      "Epoch 3/20\n"
     ]
    },
    {
     "name": "stderr",
     "output_type": "stream",
     "text": [
      "                                                          \r"
     ]
    },
    {
     "name": "stdout",
     "output_type": "stream",
     "text": [
      "Train Loss: 0.0853 | Train Acc: 0.9702\n",
      "Val   Loss: 0.0606 | Val   Acc: 0.9762\n",
      "✅ Saved new best model to ../outputs/best_model.pth\n",
      "\n",
      "Epoch 4/20\n"
     ]
    },
    {
     "name": "stderr",
     "output_type": "stream",
     "text": [
      "                                                          \r"
     ]
    },
    {
     "name": "stdout",
     "output_type": "stream",
     "text": [
      "Train Loss: 0.0636 | Train Acc: 0.9765\n",
      "Val   Loss: 0.0567 | Val   Acc: 0.9769\n",
      "✅ Saved new best model to ../outputs/best_model.pth\n",
      "\n",
      "Epoch 5/20\n"
     ]
    },
    {
     "name": "stderr",
     "output_type": "stream",
     "text": [
      "                                                          \r"
     ]
    },
    {
     "name": "stdout",
     "output_type": "stream",
     "text": [
      "Train Loss: 0.0630 | Train Acc: 0.9774\n",
      "Val   Loss: 0.0568 | Val   Acc: 0.9782\n",
      "✅ Saved new best model to ../outputs/best_model.pth\n",
      "\n",
      "Epoch 6/20\n"
     ]
    },
    {
     "name": "stderr",
     "output_type": "stream",
     "text": [
      "                                                          \r"
     ]
    },
    {
     "name": "stdout",
     "output_type": "stream",
     "text": [
      "Train Loss: 0.0569 | Train Acc: 0.9782\n",
      "Val   Loss: 0.0591 | Val   Acc: 0.9748\n",
      "\n",
      "Epoch 7/20\n"
     ]
    },
    {
     "name": "stderr",
     "output_type": "stream",
     "text": [
      "                                                          \r"
     ]
    },
    {
     "name": "stdout",
     "output_type": "stream",
     "text": [
      "Train Loss: 0.0477 | Train Acc: 0.9818\n",
      "Val   Loss: 0.0887 | Val   Acc: 0.9653\n",
      "\n",
      "Epoch 8/20\n"
     ]
    },
    {
     "name": "stderr",
     "output_type": "stream",
     "text": [
      "                                                          \r"
     ]
    },
    {
     "name": "stdout",
     "output_type": "stream",
     "text": [
      "Train Loss: 0.0696 | Train Acc: 0.9750\n",
      "Val   Loss: 0.0782 | Val   Acc: 0.9667\n",
      "\n",
      "Epoch 9/20\n"
     ]
    },
    {
     "name": "stderr",
     "output_type": "stream",
     "text": [
      "                                                          \r"
     ]
    },
    {
     "name": "stdout",
     "output_type": "stream",
     "text": [
      "Train Loss: 0.0499 | Train Acc: 0.9820\n",
      "Val   Loss: 0.0462 | Val   Acc: 0.9844\n",
      "✅ Saved new best model to ../outputs/best_model.pth\n",
      "\n",
      "Epoch 10/20\n"
     ]
    },
    {
     "name": "stderr",
     "output_type": "stream",
     "text": [
      "                                                          \r"
     ]
    },
    {
     "name": "stdout",
     "output_type": "stream",
     "text": [
      "Train Loss: 0.0404 | Train Acc: 0.9845\n",
      "Val   Loss: 0.0510 | Val   Acc: 0.9803\n",
      "\n",
      "Epoch 11/20\n"
     ]
    },
    {
     "name": "stderr",
     "output_type": "stream",
     "text": [
      "                                                          \r"
     ]
    },
    {
     "name": "stdout",
     "output_type": "stream",
     "text": [
      "Train Loss: 0.0375 | Train Acc: 0.9855\n",
      "Val   Loss: 0.0480 | Val   Acc: 0.9789\n",
      "\n",
      "Epoch 12/20\n"
     ]
    },
    {
     "name": "stderr",
     "output_type": "stream",
     "text": [
      "                                                          \r"
     ]
    },
    {
     "name": "stdout",
     "output_type": "stream",
     "text": [
      "Train Loss: 0.0320 | Train Acc: 0.9871\n",
      "Val   Loss: 0.0566 | Val   Acc: 0.9803\n",
      "\n",
      "Epoch 13/20\n"
     ]
    },
    {
     "name": "stderr",
     "output_type": "stream",
     "text": [
      "                                                          \r"
     ]
    },
    {
     "name": "stdout",
     "output_type": "stream",
     "text": [
      "Train Loss: 0.0326 | Train Acc: 0.9874\n",
      "Val   Loss: 0.0513 | Val   Acc: 0.9789\n",
      "\n",
      "Epoch 14/20\n"
     ]
    },
    {
     "name": "stderr",
     "output_type": "stream",
     "text": [
      "                                                          \r"
     ]
    },
    {
     "name": "stdout",
     "output_type": "stream",
     "text": [
      "Train Loss: 0.0391 | Train Acc: 0.9881\n",
      "Val   Loss: 0.0475 | Val   Acc: 0.9816\n",
      "\n",
      "Epoch 15/20\n"
     ]
    },
    {
     "name": "stderr",
     "output_type": "stream",
     "text": [
      "                                                          \r"
     ]
    },
    {
     "name": "stdout",
     "output_type": "stream",
     "text": [
      "Train Loss: 0.0394 | Train Acc: 0.9845\n",
      "Val   Loss: 0.0505 | Val   Acc: 0.9816\n",
      "\n",
      "Epoch 16/20\n"
     ]
    },
    {
     "name": "stderr",
     "output_type": "stream",
     "text": [
      "                                                          \r"
     ]
    },
    {
     "name": "stdout",
     "output_type": "stream",
     "text": [
      "Train Loss: 0.0350 | Train Acc: 0.9874\n",
      "Val   Loss: 0.0504 | Val   Acc: 0.9796\n",
      "\n",
      "Epoch 17/20\n"
     ]
    },
    {
     "name": "stderr",
     "output_type": "stream",
     "text": [
      "                                                          \r"
     ]
    },
    {
     "name": "stdout",
     "output_type": "stream",
     "text": [
      "Train Loss: 0.0234 | Train Acc: 0.9917\n",
      "Val   Loss: 0.0470 | Val   Acc: 0.9864\n",
      "✅ Saved new best model to ../outputs/best_model.pth\n",
      "\n",
      "Epoch 18/20\n"
     ]
    },
    {
     "name": "stderr",
     "output_type": "stream",
     "text": [
      "                                                          \r"
     ]
    },
    {
     "name": "stdout",
     "output_type": "stream",
     "text": [
      "Train Loss: 0.0163 | Train Acc: 0.9942\n",
      "Val   Loss: 0.0376 | Val   Acc: 0.9871\n",
      "✅ Saved new best model to ../outputs/best_model.pth\n",
      "\n",
      "Epoch 19/20\n"
     ]
    },
    {
     "name": "stderr",
     "output_type": "stream",
     "text": [
      "                                                          \r"
     ]
    },
    {
     "name": "stdout",
     "output_type": "stream",
     "text": [
      "Train Loss: 0.0178 | Train Acc: 0.9925\n",
      "Val   Loss: 0.0587 | Val   Acc: 0.9823\n",
      "\n",
      "Epoch 20/20\n"
     ]
    },
    {
     "name": "stderr",
     "output_type": "stream",
     "text": [
      "                                                          "
     ]
    },
    {
     "name": "stdout",
     "output_type": "stream",
     "text": [
      "Train Loss: 0.0305 | Train Acc: 0.9898\n",
      "Val   Loss: 0.0465 | Val   Acc: 0.9857\n"
     ]
    },
    {
     "name": "stderr",
     "output_type": "stream",
     "text": [
      "\r"
     ]
    }
   ],
   "source": [
    "history = train_model(\n",
    "    model=model,\n",
    "    train_loader=train_loader,\n",
    "    val_loader=val_loader,\n",
    "    optimizer=optimizer,\n",
    "    criterion=criterion,\n",
    "    device=device,\n",
    "    epochs=20,\n",
    "    save_path=\"../outputs/best_model.pth\"\n",
    ")\n"
   ]
  },
  {
   "cell_type": "markdown",
   "id": "2664ec67",
   "metadata": {},
   "source": [
    "## Visualize training and validation metrics\n"
   ]
  },
  {
   "cell_type": "code",
   "execution_count": null,
   "id": "662fa654",
   "metadata": {},
   "outputs": [
    {
     "data": {
      "image/png": "[encoded data removed]",
      "text/plain": [
       "<Figure size 1000x400 with 2 Axes>"
      ]
     },
     "metadata": {},
     "output_type": "display_data"
    }
   ],
   "source": [
    "plt.figure(figsize=(10, 4))\n",
    "\n",
    "# Loss\n",
    "plt.subplot(1, 2, 1)\n",
    "plt.plot(history['train_loss'], label='Train Loss')\n",
    "plt.plot(history['val_loss'], label='Val Loss')\n",
    "plt.title('Loss per Epoch')\n",
    "plt.xlabel('Epoch')\n",
    "plt.ylabel('Loss')\n",
    "plt.legend()\n",
    "\n",
    "# Accuracy\n",
    "plt.subplot(1, 2, 2)\n",
    "plt.plot(history['train_acc'], label='Train Accuracy')\n",
    "plt.plot(history['val_acc'], label='Val Accuracy')\n",
    "plt.title('Accuracy per Epoch')\n",
    "plt.xlabel('Epoch')\n",
    "plt.ylabel('Accuracy')\n",
    "plt.legend()\n",
    "\n",
    "plt.tight_layout()\n",
    "plt.show()\n"
   ]
  },
  {
   "cell_type": "markdown",
   "id": "e1151916",
   "metadata": {},
   "source": [
    "## Summary\n",
    "\n",
    "The model has been trained successfully and the best version was saved to:\n",
    "\n",
    "📁 `../outputs/best_model.pth`\n",
    "\n",
    "In the next notebook, we will evaluate the model on the test set using:\n",
    "- Accuracy\n",
    "- Confusion Matrix\n",
    "- Classification Report\n"
   ]
  }
 ],
 "metadata": {
  "kernelspec": {
   "display_name": ".venv",
   "language": "python",
   "name": "python3"
  },
  "language_info": {
   "codemirror_mode": {
    "name": "ipython",
    "version": 3
   },
   "file_extension": ".py",
   "mimetype": "text/x-python",
   "name": "python",
   "nbconvert_exporter": "python",
   "pygments_lexer": "ipython3",
   "version": "3.12.3"
  }
 },
 "nbformat": 4,
 "nbformat_minor": 5
}
